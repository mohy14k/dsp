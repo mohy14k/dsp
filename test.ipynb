{
 "cells": [
  {
   "cell_type": "code",
   "execution_count": 1,
   "metadata": {},
   "outputs": [],
   "source": [
    "import numpy as np\n",
    "import seaborn as sns\n",
    "import matplotlib.pyplot as plt\n",
    "import pandas as pd\n",
    "import math\n"
   ]
  },
  {
   "cell_type": "markdown",
   "metadata": {},
   "source": [
    "# task1"
   ]
  },
  {
   "cell_type": "code",
   "execution_count": 2,
   "metadata": {},
   "outputs": [],
   "source": [
    "def write_file(filename:str,df:pd.DataFrame,sampligFrequency:float,signalType:int=0,isPeriodic:int=0):\n",
    "    myFile = open(filename,\"w\")\n",
    "    myFile.write(f\"{signalType}\\n\")\n",
    "    myFile.write(f\"{isPeriodic}\\n\")\n",
    "    myFile.write(f\"{sampligFrequency}\\n\")\n",
    "        \n",
    "        # Iterate over the rows of the DataFrame\n",
    "    for index, row in df.iterrows():\n",
    "        #myFile.write(f\"{row[0]} {row[1]}\\n\")\n",
    "        myFile.write(f\"{round(row[0], 6)} {round(row[1], 6)}\\n\")\n",
    "    myFile.close()\n"
   ]
  },
  {
   "cell_type": "code",
   "execution_count": 3,
   "metadata": {},
   "outputs": [],
   "source": [
    "def read_File(filePath: str):\n",
    "    myfile = open(filePath, 'r')\n",
    "    lines = [line.strip() for line in myfile.readlines()]\n",
    "    myfile.close()\n",
    "    \n",
    "    samples = []\n",
    "    for i in range(3):\n",
    "        samples.append(int(lines.pop(0)))\n",
    "\n",
    "    index_x = []\n",
    "    index_y = []\n",
    "    for row in lines:\n",
    "        x = row.split(sep=\" \")\n",
    "        index_x.append(float(x[0]))\n",
    "        index_y.append(float(x[1]))\n",
    "\n",
    "    return [samples, index_x, index_y]\n"
   ]
  },
  {
   "cell_type": "code",
   "execution_count": 4,
   "metadata": {},
   "outputs": [],
   "source": [
    "def Compare_Signals(file_name,Your_indices,Your_samples):      \n",
    "    expected_indices=[]\n",
    "    expected_samples=[]\n",
    "    with open(file_name, 'r') as f:\n",
    "        line = f.readline()\n",
    "        line = f.readline()\n",
    "        line = f.readline()\n",
    "        line = f.readline()\n",
    "        while line:\n",
    "            # process line\n",
    "            L=line.strip()\n",
    "            if len(L.split(' '))==2:\n",
    "                L=line.split(' ')\n",
    "                V1=int(L[0])\n",
    "                V2=float(L[1])\n",
    "                expected_indices.append(V1)\n",
    "                expected_samples.append(V2)\n",
    "                line = f.readline()\n",
    "            else:\n",
    "                break\n",
    "    print(\"Current Output Test file is: \")\n",
    "    print(file_name)\n",
    "    print(\"\\n\")\n",
    "    print(len(expected_samples),(len(expected_indices)))\n",
    "    if (len(expected_samples)!=len(Your_samples)) and (len(expected_indices)!=len(Your_indices)):\n",
    "        print(\"Test case failed, your signal have different length from the expected one\")\n",
    "        return\n",
    "    for i in range(len(Your_indices)):\n",
    "        if(Your_indices[i]!=expected_indices[i]):\n",
    "            print(\"Test case failed, your signal have different indicies from the expected one\") \n",
    "            return\n",
    "    for i in range(len(expected_samples)):\n",
    "        if abs(Your_samples[i] - expected_samples[i]) < 0.01:\n",
    "            continue\n",
    "        else:\n",
    "            print(\"Test case failed, your signal have different values from the expected one\") \n",
    "            return\n",
    "    print(\"Test case passed successfully\")\n"
   ]
  },
  {
   "cell_type": "code",
   "execution_count": 5,
   "metadata": {},
   "outputs": [],
   "source": [
    "def convolve_signals(indices1, samples1, indices2, samples2):\n",
    "\n",
    "    indices1 = [int(idx) for idx in indices1]\n",
    "    indices2 = [int(idx) for idx in indices2]\n",
    "\n",
    "    output_indices = list(range(indices1[0] + indices2[0], indices1[-1] + indices2[-1] + 1))\n",
    "    \n",
    "    # Initialize the output samples with zero values\n",
    "    output_samples = [0] * len(output_indices)\n",
    "    \n",
    "    # Perform the convolution\n",
    "    for i, index in enumerate(output_indices):\n",
    "        for j, idx1 in enumerate(indices1):\n",
    "            for k, idx2 in enumerate(indices2):\n",
    "                if idx1 + idx2 == index:\n",
    "                    output_samples[i] += samples1[j] * samples2[k]\n",
    "    \n",
    "    return output_indices, output_samples"
   ]
  },
  {
   "cell_type": "markdown",
   "metadata": {},
   "source": [
    "low pass filter\n"
   ]
  },
  {
   "cell_type": "code",
   "execution_count": 6,
   "metadata": {},
   "outputs": [
    {
     "name": "stdout",
     "output_type": "stream",
     "text": [
      "3\n"
     ]
    }
   ],
   "source": [
    "def get_window_method(StopBandAttenuation):\n",
    "    #1 -> rectangular, 2-> hanning, 3-> hamming, 4-> blackman\n",
    "    if StopBandAttenuation >= 0 and StopBandAttenuation <= 21 :\n",
    "        return 1\n",
    "    if StopBandAttenuation >= 22 and StopBandAttenuation <= 44 :\n",
    "        return 2\n",
    "    if StopBandAttenuation >= 45 and StopBandAttenuation <= 53 :\n",
    "        return 3\n",
    "    if StopBandAttenuation >= 54 and StopBandAttenuation <= 74 :\n",
    "        return 4\n",
    "\n",
    "print(get_window_method(50))"
   ]
  },
  {
   "cell_type": "code",
   "execution_count": 7,
   "metadata": {},
   "outputs": [
    {
     "name": "stdout",
     "output_type": "stream",
     "text": [
      "111\n"
     ]
    }
   ],
   "source": [
    "def get_N(fs,delta_f,window_method_num):\n",
    "    normal_delta_f = float(delta_f/fs)\n",
    "    N = 0\n",
    "    \n",
    "    if window_method_num == 1:#rectangular\n",
    "        N = 0.9/normal_delta_f\n",
    "    elif window_method_num == 2:#hanning\n",
    "        N = 3.1/normal_delta_f\n",
    "    elif window_method_num == 3:#hamming\n",
    "        N = 3.3/normal_delta_f\n",
    "    elif window_method_num == 4:#blackman\n",
    "        N = 5.5/normal_delta_f\n",
    "    \n",
    "    if(int(N) % 2 == 0):\n",
    "        N=int(N) + 1\n",
    "    else:\n",
    "        N=int(N)\n",
    "    \n",
    "    return N\n",
    "\n",
    "print(get_N(1000,50,4))\n"
   ]
  },
  {
   "cell_type": "code",
   "execution_count": 8,
   "metadata": {},
   "outputs": [
    {
     "name": "stdout",
     "output_type": "stream",
     "text": [
      "1.0\n"
     ]
    }
   ],
   "source": [
    "def get_window_value(N,n,window_method_num):\n",
    "    \n",
    "    result = 0.0\n",
    "\n",
    "    if window_method_num == 1:#rectangular\n",
    "        result = 1.0    \n",
    "    elif window_method_num == 2:#hanning\n",
    "        rad = math.radians(float((2*180*n)/N))\n",
    "        result = 0.5 + (0.5 * math.cos(rad))\n",
    "    elif window_method_num == 3:#hamming\n",
    "        rad = math.radians(float(2 * 180 * n/N))\n",
    "        result = 0.54 + (0.46 * math.cos(rad))\n",
    "    elif window_method_num == 4:#blackman\n",
    "        rad1 = math.radians(float(2 * 180 * n / (N-1)))\n",
    "        rad2 = math.radians(4 * 180 * n / (N-1))\n",
    "        result = 0.42 + (0.5 * math.cos(rad1)) + (0.08 * math.cos(rad2))\n",
    "                    \n",
    "    return result    \n",
    "        \n",
    "print(get_window_value(53,0,3))"
   ]
  },
  {
   "cell_type": "code",
   "execution_count": 9,
   "metadata": {},
   "outputs": [
    {
     "data": {
      "text/plain": [
       "[4, 3, 2, 1, 2, 3, 4]"
      ]
     },
     "execution_count": 9,
     "metadata": {},
     "output_type": "execute_result"
    }
   ],
   "source": [
    "def semetric_list(lst:list):\n",
    "    l = lst[:0:-1]\n",
    "    #print(l)\n",
    "    l.extend(lst)\n",
    "    #print(l)\n",
    "    return l\n",
    "semetric_list([1,2,3,4])"
   ]
  },
  {
   "cell_type": "code",
   "execution_count": 10,
   "metadata": {},
   "outputs": [
    {
     "name": "stdout",
     "output_type": "stream",
     "text": [
      "Current Output Test file is: \n",
      "C:\\Users\\HP\\Desktop\\dsp\\task7\\FIR test cases\\Testcase 1\\LPFCoefficients.txt\n",
      "\n",
      "\n",
      "53 53\n",
      "Test case passed successfully\n"
     ]
    }
   ],
   "source": [
    "def lowPass_filter(fs, fp, delta_f,StopBandAttenuation):\n",
    "    impulse_values = []\n",
    "    #find window method\n",
    "    method_num = get_window_method(StopBandAttenuation)\n",
    "    #print(method_num)\n",
    "    \n",
    "    #find N\n",
    "    N = get_N(fs ,delta_f,method_num)\n",
    "    max_iteration = int(N/2)\n",
    "\n",
    "    #find norm_fc\n",
    "    fc1 = fp + (delta_f/2)\n",
    "    norm_fc = float(fc1/fs)\n",
    "    \n",
    "    #print(N,max_iteration)\n",
    "    \n",
    "    Hd_value = 2 * norm_fc\n",
    "    Wn_value = get_window_value(N,0,method_num)\n",
    "    impulse_values.append(Hd_value * Wn_value)\n",
    "    #print(Hd_value * Wn_value)\n",
    "    \n",
    "    for n in range(1,max_iteration+1):\n",
    "        rad = math.radians(n*2*180*norm_fc) \n",
    "        Hd_value = 2 * norm_fc * math.sin(rad) /(n * 2*math.pi*norm_fc)\n",
    "        Wn_value = get_window_value(N,n,method_num)\n",
    "        #print(Hd_value,Wn_value)\n",
    "        impulse_values.append(Hd_value*Wn_value)\n",
    "        #print(n)\n",
    "        #print(Hd_value * Wn_value)\n",
    "    impulse_values=semetric_list(impulse_values)\n",
    "    \n",
    "    index = [i for i in range(-max_iteration,max_iteration+1) ]\n",
    "    #print (index)\n",
    "    \n",
    "    return impulse_values, index\n",
    "\n",
    "\n",
    "h , input_index = lowPass_filter(8000,1500,500,50)\n",
    "\n",
    "Compare_Signals(r\"C:\\Users\\HP\\Desktop\\dsp\\task7\\FIR test cases\\Testcase 1\\LPFCoefficients.txt\",input_index,h)\n",
    "    "
   ]
  },
  {
   "cell_type": "code",
   "execution_count": 11,
   "metadata": {},
   "outputs": [
    {
     "name": "stdout",
     "output_type": "stream",
     "text": [
      "[0.0, 1.0, 2.0, 3.0, 4.0, 5.0, 6.0, 7.0, 8.0, 9.0, 10.0, 11.0, 12.0, 13.0, 14.0, 15.0, 16.0, 17.0, 18.0, 19.0, 20.0, 21.0, 22.0, 23.0, 24.0, 25.0, 26.0, 27.0, 28.0, 29.0, 30.0, 31.0, 32.0, 33.0, 34.0, 35.0, 36.0, 37.0, 38.0, 39.0, 40.0, 41.0, 42.0, 43.0, 44.0, 45.0, 46.0, 47.0, 48.0, 49.0, 50.0, 51.0, 52.0, 53.0, 54.0, 55.0, 56.0, 57.0, 58.0, 59.0, 60.0, 61.0, 62.0, 63.0, 64.0, 65.0, 66.0, 67.0, 68.0, 69.0, 70.0, 71.0, 72.0, 73.0, 74.0, 75.0, 76.0, 77.0, 78.0, 79.0, 80.0, 81.0, 82.0, 83.0, 84.0, 85.0, 86.0, 87.0, 88.0, 89.0, 90.0, 91.0, 92.0, 93.0, 94.0, 95.0, 96.0, 97.0, 98.0, 99.0, 100.0, 101.0, 102.0, 103.0, 104.0, 105.0, 106.0, 107.0, 108.0, 109.0, 110.0, 111.0, 112.0, 113.0, 114.0, 115.0, 116.0, 117.0, 118.0, 119.0, 120.0, 121.0, 122.0, 123.0, 124.0, 125.0, 126.0, 127.0, 128.0, 129.0, 130.0, 131.0, 132.0, 133.0, 134.0, 135.0, 136.0, 137.0, 138.0, 139.0, 140.0, 141.0, 142.0, 143.0, 144.0, 145.0, 146.0, 147.0, 148.0, 149.0, 150.0, 151.0, 152.0, 153.0, 154.0, 155.0, 156.0, 157.0, 158.0, 159.0, 160.0, 161.0, 162.0, 163.0, 164.0, 165.0, 166.0, 167.0, 168.0, 169.0, 170.0, 171.0, 172.0, 173.0, 174.0, 175.0, 176.0, 177.0, 178.0, 179.0, 180.0, 181.0, 182.0, 183.0, 184.0, 185.0, 186.0, 187.0, 188.0, 189.0, 190.0, 191.0, 192.0, 193.0, 194.0, 195.0, 196.0, 197.0, 198.0, 199.0, 200.0, 201.0, 202.0, 203.0, 204.0, 205.0, 206.0, 207.0, 208.0, 209.0, 210.0, 211.0, 212.0, 213.0, 214.0, 215.0, 216.0, 217.0, 218.0, 219.0, 220.0, 221.0, 222.0, 223.0, 224.0, 225.0, 226.0, 227.0, 228.0, 229.0, 230.0, 231.0, 232.0, 233.0, 234.0, 235.0, 236.0, 237.0, 238.0, 239.0, 240.0, 241.0, 242.0, 243.0, 244.0, 245.0, 246.0, 247.0, 248.0, 249.0, 250.0, 251.0, 252.0, 253.0, 254.0, 255.0, 256.0, 257.0, 258.0, 259.0, 260.0, 261.0, 262.0, 263.0, 264.0, 265.0, 266.0, 267.0, 268.0, 269.0, 270.0, 271.0, 272.0, 273.0, 274.0, 275.0, 276.0, 277.0, 278.0, 279.0, 280.0, 281.0, 282.0, 283.0, 284.0, 285.0, 286.0, 287.0, 288.0, 289.0, 290.0, 291.0, 292.0, 293.0, 294.0, 295.0, 296.0, 297.0, 298.0, 299.0, 300.0, 301.0, 302.0, 303.0, 304.0, 305.0, 306.0, 307.0, 308.0, 309.0, 310.0, 311.0, 312.0, 313.0, 314.0, 315.0, 316.0, 317.0, 318.0, 319.0, 320.0, 321.0, 322.0, 323.0, 324.0, 325.0, 326.0, 327.0, 328.0, 329.0, 330.0, 331.0, 332.0, 333.0, 334.0, 335.0, 336.0, 337.0, 338.0, 339.0, 340.0, 341.0, 342.0, 343.0, 344.0, 345.0, 346.0, 347.0, 348.0, 349.0, 350.0, 351.0, 352.0, 353.0, 354.0, 355.0, 356.0, 357.0, 358.0, 359.0, 360.0, 361.0, 362.0, 363.0, 364.0, 365.0, 366.0, 367.0, 368.0, 369.0, 370.0, 371.0, 372.0, 373.0, 374.0, 375.0, 376.0, 377.0, 378.0, 379.0, 380.0, 381.0, 382.0, 383.0, 384.0, 385.0, 386.0, 387.0, 388.0, 389.0, 390.0, 391.0, 392.0, 393.0, 394.0, 395.0, 396.0, 397.0, 398.0, 399.0]\n",
      "Current Output Test file is: \n",
      "C:\\Users\\HP\\Desktop\\dsp\\task7\\FIR test cases\\Testcase 2\\ecg_low_pass_filtered.txt\n",
      "\n",
      "\n",
      "452 452\n",
      "Test case passed successfully\n"
     ]
    }
   ],
   "source": [
    "readed_signal = read_File(r\"C:\\Users\\HP\\Desktop\\dsp\\task7\\FIR test cases\\Testcase 2\\ecg400.txt\")\n",
    "print(readed_signal[1])\n",
    "\n",
    "out_ind , out_sap= convolve_signals(readed_signal[1],readed_signal[2],input_index,h)\n",
    "Compare_Signals(r\"C:\\Users\\HP\\Desktop\\dsp\\task7\\FIR test cases\\Testcase 2\\ecg_low_pass_filtered.txt\",out_ind,out_sap)"
   ]
  },
  {
   "cell_type": "markdown",
   "metadata": {},
   "source": [
    "high pass filter\n"
   ]
  },
  {
   "cell_type": "code",
   "execution_count": 12,
   "metadata": {},
   "outputs": [
    {
     "name": "stdout",
     "output_type": "stream",
     "text": [
      "Current Output Test file is: \n",
      "C:\\Users\\HP\\Desktop\\dsp\\task7\\FIR test cases\\Testcase 3\\HPFCoefficients.txt\n",
      "\n",
      "\n",
      "89 89\n",
      "Test case passed successfully\n"
     ]
    }
   ],
   "source": [
    "def highPass_filter(fs, fp, delta_f,StopBandAttenuation):\n",
    "    impulse_values = []\n",
    "    #find window method\n",
    "    method_num = get_window_method(StopBandAttenuation)\n",
    "    #print(method_num)\n",
    "    \n",
    "    #find N\n",
    "    N = get_N(fs ,delta_f,method_num)\n",
    "    max_iteration = int(N/2)\n",
    "\n",
    "    #find norm_fc\n",
    "    fc1 = fp - (delta_f/2)\n",
    "    norm_fc = float(fc1/fs)\n",
    "    \n",
    "    #print(N,max_iteration)\n",
    "    \n",
    "    Hd_value = 1 - 2 * norm_fc\n",
    "    Wn_value = get_window_value(N,0,method_num)\n",
    "    impulse_values.append(Hd_value * Wn_value)\n",
    "    #print(Hd_value * Wn_value)\n",
    "    \n",
    "    for n in range(1,max_iteration+1):\n",
    "        rad = math.radians(n*2*180*norm_fc) \n",
    "        Hd_value = -2 * norm_fc * math.sin(rad) /(n * 2*math.pi*norm_fc)\n",
    "        Wn_value = get_window_value(N,n,method_num)\n",
    "        impulse_values.append(Hd_value*Wn_value)\n",
    "        \n",
    "    impulse_values=semetric_list(impulse_values)\n",
    "    \n",
    "    index = [i for i in range(-max_iteration,max_iteration+1) ]\n",
    "    \n",
    "    \n",
    "    return impulse_values, index\n",
    "\n",
    "h , input_index =highPass_filter(8000,1500,500,70)\n",
    "Compare_Signals(r\"C:\\Users\\HP\\Desktop\\dsp\\task7\\FIR test cases\\Testcase 3\\HPFCoefficients.txt\",input_index,h)"
   ]
  },
  {
   "cell_type": "code",
   "execution_count": 13,
   "metadata": {},
   "outputs": [
    {
     "name": "stdout",
     "output_type": "stream",
     "text": [
      "Current Output Test file is: \n",
      "C:\\Users\\HP\\Desktop\\dsp\\task7\\FIR test cases\\Testcase 4\\ecg_high_pass_filtered.txt\n",
      "\n",
      "\n",
      "488 488\n",
      "Test case passed successfully\n"
     ]
    }
   ],
   "source": [
    "#test \n",
    "readed_signal = read_File(r\"task7/FIR test cases/Testcase 4/ecg400.txt\")\n",
    "\n",
    "out_ind , out_sap = convolve_signals(readed_signal[1],readed_signal[2],input_index,h)\n",
    "\n",
    "Compare_Signals(r\"C:\\Users\\HP\\Desktop\\dsp\\task7\\FIR test cases\\Testcase 4\\ecg_high_pass_filtered.txt\",out_ind,out_sap)"
   ]
  },
  {
   "cell_type": "markdown",
   "metadata": {},
   "source": [
    "bandPass filter\n"
   ]
  },
  {
   "cell_type": "code",
   "execution_count": 14,
   "metadata": {},
   "outputs": [
    {
     "name": "stdout",
     "output_type": "stream",
     "text": [
      "Current Output Test file is: \n",
      "C:\\Users\\HP\\Desktop\\dsp\\task7\\FIR test cases\\Testcase 5\\BPFCoefficients.txt\n",
      "\n",
      "\n",
      "111 111\n",
      "Test case passed successfully\n"
     ]
    }
   ],
   "source": [
    "def bandPass_filter(fs, fp1,fp2, delta_f,StopBandAttenuation):\n",
    "    impulse_values = []\n",
    "    #find window method\n",
    "    method_num = get_window_method(StopBandAttenuation)\n",
    "    #print(method_num)\n",
    "    \n",
    "    #find N\n",
    "    N = get_N(fs ,delta_f,method_num)\n",
    "    max_iteration = int(N/2)\n",
    "\n",
    "    #find norm_fc\n",
    "    fc1 = fp1 - (delta_f/2)\n",
    "    norm_fc1 = float(fc1/fs)\n",
    "    \n",
    "    fc2 = fp2 + (delta_f/2)\n",
    "    norm_fc2 = float(fc2/fs)\n",
    "    \n",
    "    #print(N,max_iteration)\n",
    "    \n",
    "    Hd_value =  2 * (norm_fc2-norm_fc1)\n",
    "    Wn_value = get_window_value(N,0,method_num)\n",
    "    impulse_values.append(Hd_value * Wn_value)\n",
    "    #print(Hd_value * Wn_value)\n",
    "    \n",
    "    for n in range(1,max_iteration+1):\n",
    "        rad1 = math.radians(n*2*180*norm_fc1)\n",
    "        rad2 = math.radians(n*2*180*norm_fc2)\n",
    "\n",
    "        Hd_value = (2*norm_fc2* math.sin(rad2)/(n * 2*math.pi*norm_fc2)) - (2*norm_fc1* math.sin(rad1)/(n * 2*math.pi*norm_fc1))\n",
    "        Wn_value = get_window_value(N,n,method_num)\n",
    "        impulse_values.append(Hd_value*Wn_value)\n",
    "        \n",
    "    impulse_values=semetric_list(impulse_values)\n",
    "    \n",
    "    index = [i for i in range(-max_iteration,max_iteration+1) ]\n",
    "    \n",
    "    \n",
    "    return impulse_values, index\n",
    "\n",
    "h,input_index = bandPass_filter(1000,150,250,50,60)\n",
    "Compare_Signals(r\"C:\\Users\\HP\\Desktop\\dsp\\task7\\FIR test cases\\Testcase 5\\BPFCoefficients.txt\",input_index,h)"
   ]
  },
  {
   "cell_type": "code",
   "execution_count": 15,
   "metadata": {},
   "outputs": [
    {
     "name": "stdout",
     "output_type": "stream",
     "text": [
      "Current Output Test file is: \n",
      "C:\\Users\\HP\\Desktop\\dsp\\task7\\FIR test cases\\Testcase 6\\ecg_band_pass_filtered.txt\n",
      "\n",
      "\n",
      "510 510\n",
      "Test case passed successfully\n"
     ]
    }
   ],
   "source": [
    "readed_signal = read_File(r\"C:\\Users\\HP\\Desktop\\dsp\\task7\\FIR test cases\\Testcase 6\\ecg400.txt\")\n",
    "\n",
    "out_ind,out_sap = convolve_signals(readed_signal[1],readed_signal[2],input_index,h)\n",
    "\n",
    "Compare_Signals(r\"C:\\Users\\HP\\Desktop\\dsp\\task7\\FIR test cases\\Testcase 6\\ecg_band_pass_filtered.txt\",out_ind,out_sap)"
   ]
  },
  {
   "cell_type": "code",
   "execution_count": 16,
   "metadata": {},
   "outputs": [
    {
     "name": "stdout",
     "output_type": "stream",
     "text": [
      "Current Output Test file is: \n",
      "C:\\Users\\HP\\Desktop\\dsp\\task7\\FIR test cases\\Testcase 7\\BSFCoefficients.txt\n",
      "\n",
      "\n",
      "111 111\n",
      "Test case passed successfully\n"
     ]
    }
   ],
   "source": [
    "def bandStop_filter(fs, fp1,fp2, delta_f,StopBandAttenuation):\n",
    "    impulse_values = []\n",
    "    #find window method\n",
    "    method_num = get_window_method(StopBandAttenuation)\n",
    "    #print(method_num)\n",
    "    \n",
    "    #find N\n",
    "    N = get_N(fs ,delta_f,method_num)\n",
    "    max_iteration = int(N/2)\n",
    "\n",
    "    #find norm_fc\n",
    "    fc1 = fp1 + (delta_f/2)\n",
    "    norm_fc1 = float(fc1/fs)\n",
    "    \n",
    "    fc2 = fp2 - (delta_f/2)\n",
    "    norm_fc2 = float(fc2/fs)\n",
    "    \n",
    "    #print(N,max_iteration)\n",
    "    \n",
    "    Hd_value = 1- 2 * (norm_fc2-norm_fc1)\n",
    "    Wn_value = get_window_value(N,0,method_num)\n",
    "    impulse_values.append(Hd_value * Wn_value)\n",
    "    #print(Hd_value * Wn_value)\n",
    "    \n",
    "    for n in range(1,max_iteration+1):\n",
    "        rad1 = math.radians(n*2*180*norm_fc1)\n",
    "        rad2 = math.radians(n*2*180*norm_fc2)\n",
    "\n",
    "        Hd_value = (2*norm_fc1* math.sin(rad1)/(n * 2*math.pi*norm_fc1)) - (2*norm_fc2* math.sin(rad2)/(n * 2*math.pi*norm_fc2))\n",
    "        Wn_value = get_window_value(N,n,method_num)\n",
    "        impulse_values.append(Hd_value*Wn_value)\n",
    "        \n",
    "    impulse_values=semetric_list(impulse_values)\n",
    "    \n",
    "    index = [i for i in range(-max_iteration,max_iteration+1) ]\n",
    "    \n",
    "    \n",
    "    return impulse_values, index\n",
    "\n",
    "h , input_index = bandStop_filter(1000,150,250,50,60)\n",
    "\n",
    "Compare_Signals(r\"C:\\Users\\HP\\Desktop\\dsp\\task7\\FIR test cases\\Testcase 7\\BSFCoefficients.txt\",input_index,h)"
   ]
  },
  {
   "cell_type": "code",
   "execution_count": 17,
   "metadata": {},
   "outputs": [
    {
     "name": "stdout",
     "output_type": "stream",
     "text": [
      "Current Output Test file is: \n",
      "C:\\Users\\HP\\Desktop\\dsp\\task7\\FIR test cases\\Testcase 8\\ecg_band_stop_filtered.txt\n",
      "\n",
      "\n",
      "510 510\n",
      "Test case passed successfully\n"
     ]
    }
   ],
   "source": [
    "readed_signal = read_File(r\"C:\\Users\\HP\\Desktop\\dsp\\task7\\FIR test cases\\Testcase 8\\ecg400.txt\")\n",
    "\n",
    "out_ind,out_sap = convolve_signals(readed_signal[1],readed_signal[2],input_index,h)\n",
    "\n",
    "Compare_Signals(r\"C:\\Users\\HP\\Desktop\\dsp\\task7\\FIR test cases\\Testcase 8\\ecg_band_stop_filtered.txt\",out_ind,out_sap)"
   ]
  },
  {
   "cell_type": "markdown",
   "metadata": {},
   "source": [
    "resampling downsampling\n"
   ]
  },
  {
   "cell_type": "code",
   "execution_count": 18,
   "metadata": {},
   "outputs": [
    {
     "name": "stdout",
     "output_type": "stream",
     "text": [
      "Current Output Test file is: \n",
      "C:\\Users\\HP\\Desktop\\dsp\\task7\\sampling test cases\\Testcase 1\\Sampling_Down.txt\n",
      "\n",
      "\n",
      "226 226\n",
      "Test case passed successfully\n"
     ]
    }
   ],
   "source": [
    "def resampling_down(input_index:list , input_samples_values:list,m:int,fs, fp, delta_f,StopBandAttenuation):\n",
    "    resampled_sample_values = []\n",
    "    resampled_indices =[]\n",
    "    #apply filter\n",
    "    h,lpf_index = lowPass_filter(fs,fp,delta_f,StopBandAttenuation)\n",
    "    \n",
    "    indices , sample_values = convolve_signals(input_index, input_samples_values,lpf_index,h)\n",
    "    \n",
    "    #down sample by M factor\n",
    "    resampled_sample_values = sample_values[::m]\n",
    "\n",
    "    resampled_indices = [i+indices[0] for i in range(len(resampled_sample_values))]\n",
    "    \n",
    "    return resampled_indices , resampled_sample_values\n",
    "   \n",
    "readed_signal = read_File(r\"C:\\Users\\HP\\Desktop\\dsp\\task7\\sampling test cases\\Testcase 1\\ecg400.txt\")\n",
    "indices1 , samples_values = resampling_down(readed_signal[1],readed_signal[2],2,8000,1500,500,50)\n",
    "\n",
    "Compare_Signals(r\"C:\\Users\\HP\\Desktop\\dsp\\task7\\sampling test cases\\Testcase 1\\Sampling_Down.txt\",indices1,samples_values)\n"
   ]
  },
  {
   "cell_type": "markdown",
   "metadata": {},
   "source": [
    "resampling upsampling\n"
   ]
  },
  {
   "cell_type": "code",
   "execution_count": 19,
   "metadata": {},
   "outputs": [
    {
     "name": "stdout",
     "output_type": "stream",
     "text": [
      "Current Output Test file is: \n",
      "C:\\Users\\HP\\Desktop\\dsp\\task7\\sampling test cases\\Testcase 2\\Sampling_Up.txt\n",
      "\n",
      "\n",
      "1250 1250\n",
      "Test case passed successfully\n"
     ]
    }
   ],
   "source": [
    "def resampling_up(input_index:list , input_samples_values:list,l:int,fs, fp, delta_f,StopBandAttenuation):\n",
    "    resampled_sample_values = []\n",
    "    resampled_indices =[]\n",
    "\n",
    "    #apply up sample by L factor\n",
    "    for i in input_samples_values:\n",
    "        resampled_sample_values.append(i)\n",
    "        \n",
    "        for j in range(l-1):\n",
    "            resampled_sample_values.append(0)\n",
    "    \n",
    "    resampled_sample_values = resampled_sample_values[:len(resampled_sample_values)-l+1]\n",
    "    resampled_indices = [i for i in range(len(resampled_sample_values))]\n",
    "\n",
    "    #print(resampled_indices)\n",
    "    #print(resampled_sample_values)\n",
    "\n",
    "    #apply filter\n",
    "    h,lpf_index = lowPass_filter(fs,fp,delta_f,StopBandAttenuation)\n",
    "    \n",
    "    resampled_indices , resampled_sample_values = convolve_signals(resampled_indices, resampled_sample_values,lpf_index,h)\n",
    "\n",
    "    #print(resampled_indices)\n",
    "    #print(resampled_sample_values)\n",
    "\n",
    "    #print(len(resampled_indices))\n",
    "    #print(len(resampled_sample_values))\n",
    "    #resampled_sample_values = resampled_sample_values[:len(resampled_sample_values)-l+1]\n",
    "    #resampled_indices = resampled_indices[:len(resampled_indices)-l+1]\n",
    "    return resampled_indices,resampled_sample_values\n",
    "\n",
    "\n",
    "indices1 , samples_values = resampling_up(readed_signal[1],readed_signal[2],3,8000,1500,500,50)\n",
    "Compare_Signals(r\"C:\\Users\\HP\\Desktop\\dsp\\task7\\sampling test cases\\Testcase 2\\Sampling_Up.txt\",indices1,samples_values)"
   ]
  },
  {
   "cell_type": "markdown",
   "metadata": {},
   "source": [
    "resample up and down\n"
   ]
  },
  {
   "cell_type": "code",
   "execution_count": 20,
   "metadata": {},
   "outputs": [
    {
     "name": "stdout",
     "output_type": "stream",
     "text": [
      "[-26, -25, -24, -23, -22, -21, -20, -19, -18, -17, -16, -15, -14, -13, -12, -11, -10, -9, -8, -7, -6, -5, -4, -3, -2, -1, 0, 1, 2, 3, 4, 5, 6, 7, 8, 9, 10, 11, 12, 13, 14, 15, 16, 17, 18, 19, 20, 21, 22, 23, 24, 25, 26, 27, 28, 29, 30, 31, 32, 33, 34, 35, 36, 37, 38, 39, 40, 41, 42, 43, 44, 45, 46, 47, 48, 49, 50, 51, 52, 53, 54, 55, 56, 57, 58, 59, 60, 61, 62, 63, 64, 65, 66, 67, 68, 69, 70, 71, 72, 73, 74, 75, 76, 77, 78, 79, 80, 81, 82, 83, 84, 85, 86, 87, 88, 89, 90, 91, 92, 93, 94, 95, 96, 97, 98, 99, 100, 101, 102, 103, 104, 105, 106, 107, 108, 109, 110, 111, 112, 113, 114, 115, 116, 117, 118, 119, 120, 121, 122, 123, 124, 125, 126, 127, 128, 129, 130, 131, 132, 133, 134, 135, 136, 137, 138, 139, 140, 141, 142, 143, 144, 145, 146, 147, 148, 149, 150, 151, 152, 153, 154, 155, 156, 157, 158, 159, 160, 161, 162, 163, 164, 165, 166, 167, 168, 169, 170, 171, 172, 173, 174, 175, 176, 177, 178, 179, 180, 181, 182, 183, 184, 185, 186, 187, 188, 189, 190, 191, 192, 193, 194, 195, 196, 197, 198, 199, 200, 201, 202, 203, 204, 205, 206, 207, 208, 209, 210, 211, 212, 213, 214, 215, 216, 217, 218, 219, 220, 221, 222, 223, 224, 225, 226, 227, 228, 229, 230, 231, 232, 233, 234, 235, 236, 237, 238, 239, 240, 241, 242, 243, 244, 245, 246, 247, 248, 249, 250, 251, 252, 253, 254, 255, 256, 257, 258, 259, 260, 261, 262, 263, 264, 265, 266, 267, 268, 269, 270, 271, 272, 273, 274, 275, 276, 277, 278, 279, 280, 281, 282, 283, 284, 285, 286, 287, 288, 289, 290, 291, 292, 293, 294, 295, 296, 297, 298, 299, 300, 301, 302, 303, 304, 305, 306, 307, 308, 309, 310, 311, 312, 313, 314, 315, 316, 317, 318, 319, 320, 321, 322, 323, 324, 325, 326, 327, 328, 329, 330, 331, 332, 333, 334, 335, 336, 337, 338, 339, 340, 341, 342, 343, 344, 345, 346, 347, 348, 349, 350, 351, 352, 353, 354, 355, 356, 357, 358, 359, 360, 361, 362, 363, 364, 365, 366, 367, 368, 369, 370, 371, 372, 373, 374, 375, 376, 377, 378, 379, 380, 381, 382, 383, 384, 385, 386, 387, 388, 389, 390, 391, 392, 393, 394, 395, 396, 397, 398, 399, 400, 401, 402, 403, 404, 405, 406, 407, 408, 409, 410, 411, 412, 413, 414, 415, 416, 417, 418, 419, 420, 421, 422, 423, 424, 425, 426, 427, 428, 429, 430, 431, 432, 433, 434, 435, 436, 437, 438, 439, 440, 441, 442, 443, 444, 445, 446, 447, 448, 449, 450, 451, 452, 453, 454, 455, 456, 457, 458, 459, 460, 461, 462, 463, 464, 465, 466, 467, 468, 469, 470, 471, 472, 473, 474, 475, 476, 477, 478, 479, 480, 481, 482, 483, 484, 485, 486, 487, 488, 489, 490, 491, 492, 493, 494, 495, 496, 497, 498, 499, 500, 501, 502, 503, 504, 505, 506, 507, 508, 509, 510, 511, 512, 513, 514, 515, 516, 517, 518, 519, 520, 521, 522, 523, 524, 525, 526, 527, 528, 529, 530, 531, 532, 533, 534, 535, 536, 537, 538, 539, 540, 541, 542, 543, 544, 545, 546, 547, 548, 549, 550, 551, 552, 553, 554, 555, 556, 557, 558, 559, 560, 561, 562, 563, 564, 565, 566, 567, 568, 569, 570, 571, 572, 573, 574, 575, 576, 577, 578, 579, 580, 581, 582, 583, 584, 585, 586, 587, 588, 589, 590, 591, 592, 593, 594, 595, 596, 597, 598, 599, 600, 601, 602, 603, 604, 605, 606, 607, 608, 609, 610, 611, 612, 613, 614, 615, 616, 617, 618, 619, 620, 621, 622, 623, 624, 625, 626, 627, 628, 629, 630, 631, 632, 633, 634, 635, 636, 637, 638, 639, 640, 641, 642, 643, 644, 645, 646, 647, 648, 649, 650, 651, 652, 653, 654, 655, 656, 657, 658, 659, 660, 661, 662, 663, 664, 665, 666, 667, 668, 669, 670, 671, 672, 673, 674, 675, 676, 677, 678, 679, 680, 681, 682, 683, 684, 685, 686, 687, 688, 689, 690, 691, 692, 693, 694, 695, 696, 697, 698, 699, 700, 701, 702, 703, 704, 705, 706, 707, 708, 709, 710, 711, 712, 713, 714, 715, 716, 717, 718, 719, 720, 721, 722, 723, 724, 725, 726, 727, 728, 729, 730, 731, 732, 733, 734, 735, 736, 737, 738, 739, 740, 741, 742, 743, 744, 745, 746, 747, 748, 749, 750, 751, 752, 753, 754, 755, 756, 757, 758, 759, 760, 761, 762, 763, 764, 765, 766, 767, 768, 769, 770, 771, 772, 773, 774, 775, 776, 777, 778, 779, 780, 781, 782, 783, 784, 785, 786, 787, 788, 789, 790, 791, 792, 793, 794, 795, 796, 797, 798, 799, 800, 801, 802, 803, 804, 805, 806, 807, 808, 809, 810, 811, 812, 813, 814, 815, 816, 817, 818, 819, 820, 821, 822, 823, 824, 825, 826, 827, 828, 829, 830, 831, 832, 833, 834, 835, 836, 837, 838, 839, 840, 841, 842, 843, 844, 845, 846, 847, 848, 849, 850, 851, 852, 853, 854, 855, 856, 857, 858, 859, 860, 861, 862, 863, 864, 865, 866, 867, 868, 869, 870, 871, 872, 873, 874, 875, 876, 877, 878, 879, 880, 881, 882, 883, 884, 885, 886, 887, 888, 889, 890, 891, 892, 893, 894, 895, 896, 897, 898, 899, 900, 901, 902, 903, 904, 905, 906, 907, 908, 909, 910, 911, 912, 913, 914, 915, 916, 917, 918, 919, 920, 921, 922, 923, 924, 925, 926, 927, 928, 929, 930, 931, 932, 933, 934, 935, 936, 937, 938, 939, 940, 941, 942, 943, 944, 945, 946, 947, 948, 949, 950, 951, 952, 953, 954, 955, 956, 957, 958, 959, 960, 961, 962, 963, 964, 965, 966, 967, 968, 969, 970, 971, 972, 973, 974, 975, 976, 977, 978, 979, 980, 981, 982, 983, 984, 985, 986, 987, 988, 989, 990, 991, 992, 993, 994, 995, 996, 997, 998, 999, 1000, 1001, 1002, 1003, 1004, 1005, 1006, 1007, 1008, 1009, 1010, 1011, 1012, 1013, 1014, 1015, 1016, 1017, 1018, 1019, 1020, 1021, 1022, 1023, 1024, 1025, 1026, 1027, 1028, 1029, 1030, 1031, 1032, 1033, 1034, 1035, 1036, 1037, 1038, 1039, 1040, 1041, 1042, 1043, 1044, 1045, 1046, 1047, 1048, 1049, 1050, 1051, 1052, 1053, 1054, 1055, 1056, 1057, 1058, 1059, 1060, 1061, 1062, 1063, 1064, 1065, 1066, 1067, 1068, 1069, 1070, 1071, 1072, 1073, 1074, 1075, 1076, 1077, 1078, 1079, 1080, 1081, 1082, 1083, 1084, 1085, 1086, 1087, 1088, 1089, 1090, 1091, 1092, 1093, 1094, 1095, 1096, 1097, 1098, 1099, 1100, 1101, 1102, 1103, 1104, 1105, 1106, 1107, 1108, 1109, 1110, 1111, 1112, 1113, 1114, 1115, 1116, 1117, 1118, 1119, 1120, 1121, 1122, 1123, 1124, 1125, 1126, 1127, 1128, 1129, 1130, 1131, 1132, 1133, 1134, 1135, 1136, 1137, 1138, 1139, 1140, 1141, 1142, 1143, 1144, 1145, 1146, 1147, 1148, 1149, 1150, 1151, 1152, 1153, 1154, 1155, 1156, 1157, 1158, 1159, 1160, 1161, 1162, 1163, 1164, 1165, 1166, 1167, 1168, 1169, 1170, 1171, 1172, 1173, 1174, 1175, 1176, 1177, 1178, 1179, 1180, 1181, 1182, 1183, 1184, 1185, 1186, 1187, 1188, 1189, 1190, 1191, 1192, 1193, 1194, 1195, 1196, 1197, 1198, 1199, 1200, 1201, 1202, 1203, 1204, 1205, 1206, 1207, 1208, 1209, 1210, 1211, 1212, 1213, 1214, 1215, 1216, 1217, 1218, 1219, 1220, 1221, 1222, 1223]\n",
      "[0.049355961462994154, -0.011703738826284893, -0.07165950716639105, 0.030173178815996685, 0.09261585081935038, 0.010286252328310139, -0.09037347984481406, -0.10092042619732469, 0.10565968757014811, 0.2514233684716714, -0.08048439271125987, -0.3884619378778037, -0.010380636838545315, 0.503339464160153, 0.2570986791450975, -0.5314954055077088, -0.6476495291382753, 0.45498374673288705, 1.1834343069036684, -0.12270432323994628, -1.8111379071480531, -0.7317976843421193, 2.5878520597390335, 2.9537690086425927, -3.6750401185710557, -14.278077941476438, -21.17690302429976, -20.610754671216316, -16.469693183509506, -15.023894580907877, -17.59397881055952, -20.39076110489091, -20.558516006774234, -19.298309911279002, -18.985068539802793, -19.79651146576344, -20.24817936910354, -19.970928325664456, -20.016542435511717, -20.747031514554678, -21.059724823442465, -20.410205647586384, -19.785866133264815, -19.725606411454446, -18.96638155852908, -15.741348357053171, -10.351833557641442, -5.831047471929772, -4.455348969057429, -4.916726122838026, -3.9246916760363173, 0.16364963627095297, 5.796740312931226, 9.532311381790898, 9.796751457114054, 8.182204757038978, 7.30289307556918, 8.225911271896457, 9.598066519050708, 8.89313088449018, 5.541109301026496, 1.5826164087893686, -0.41245141950295683, 0.9018990726110883, 4.775911629094401, 8.86945794175104, 11.391207385704103, 12.368228058470057, 13.6330190798951, 17.192244782140964, 21.990146485012477, 24.04107691401361, 20.567242494718812, 13.583642474603609, 9.314502218143202, 12.127890894832174, 19.481924172943664, 24.86352625874299, 24.634041526166644, 21.510662233519312, 21.587944708738494, 27.26312496341189, 34.53656939401393, 37.584611907720735, 34.64908745361458, 29.40616731657682, 26.82736954046253, 27.82084170873067, 29.0406572208525, 27.702316090604025, 24.515032761911893, 21.452226951339124, 18.749546731766404, 14.580759432823056, 8.206265702313361, 2.0775814748218755, -1.3295331108316577, -2.819560529925285, -5.237903736967186, -10.115305807484242, -15.740462595770817, -19.14455229240601, -19.62936435539343, -19.171415093465427, -19.41714168228417, -20.322253922842947, -20.857658160113054, -20.420688308852892, -19.78714374317475, -19.751553391433294, -19.89812460571913, -19.789220505660175, -19.649465500246947, -20.018997327107687, -21.286012409765984, -23.3285581302841, -25.047606774729495, -25.8814398998485, -26.333286113790155, -26.739749103990945, -27.265343166292702, -27.516537440011014, -27.062455358098052, -26.608179275481753, -26.363183992013404, -26.709285649639572, -27.855911706428174, -28.08212265420427, -28.58529344721835, -31.09858797934569, -31.828179833372086, -30.885523058324726, -30.758130174182828, -29.76596565342261, -29.272039209115377, -30.132076619389704, -29.588994153103467, -31.873674545864876, -40.03487193777223, -49.40690752433053, -56.365997794792584, -59.54251127135271, -57.63182156798947, -52.97030780310222, -46.79146913164615, -37.707067077315315, -23.653709436050754, -0.8285821231211539, 32.318590042070014, 70.75600593055646, 106.68580183478583, 138.56113944661064, 176.97446476976666, 234.78946547215045, 307.9948319255928, 371.4299277024916, 399.43623653251495, 394.08353121570275, 388.4261760698986, 411.70954438180564, 450.7767127632917, 458.0580645673929, 404.5266277012853, 318.22867751856745, 259.862194578559, 258.2555777300024, 280.16412888988066, 271.4167890685137, 217.07920353193, 149.17705309835495, 103.68072468472229, 83.37484650712422, 66.08804673807283, 38.92010427112417, 10.115199817239933, -8.039418898708067, -14.437154880595138, -16.671802765468478, -18.27871327128707, -17.09876984987338, -13.194634484846215, -7.607116294119296, -2.500603036824711, -2.1037357170234334, -3.558494125827448, -3.2194765490641215, -2.8791931046566943, -1.696260131545757, -1.0816055496263703, -5.360842160828342, -10.081832553942071, -11.298989296457636, -10.985625079236595, -9.731710986599317, -8.152245655323997, -7.800511482524465, -6.863034170455296, -5.646975954995814, -6.125950070583351, -7.442601276009145, -8.491959644889837, -9.265604198733676, -9.940888499345226, -10.536581596410016, -10.287166650269409, -9.00642141318837, -7.81981926605186, -7.682430101039155, -8.080040098812308, -7.776074031433369, -6.470640315257033, -4.89158614923116, -3.8294643103683144, -3.1595506829397744, -2.353398338007276, -1.6180649890503944, -1.1605206667146926, -0.3824912836801215, 0.8812097537251345, 2.1219946585706135, 3.127196002556966, 4.4137557414581705, 6.797708219858485, 9.979555784358649, 11.904526481671843, 11.253255711702593, 9.354047790471054, 8.248227466194644, 8.792029193473805, 10.466410496189217, 11.936340046439545, 12.744530639727072, 13.718874259959597, 15.242617663112755, 17.2660052988604, 19.697486118260638, 21.356474867235477, 21.26471811720132, 20.395779945658152, 20.256921160469354, 21.75083298844743, 24.65052570814151, 26.896970035107543, 27.308264251846413, 27.464760478576796, 28.562460541130054, 30.246830456778923, 31.964684694253144, 32.84462257471827, 33.082119140215305, 34.251600898655035, 35.88408160679465, 36.52110557527303, 36.98399780600835, 38.37358740960084, 41.17030349137269, 45.47594870626101, 48.990774906032875, 50.01623583771403, 50.52748847337621, 51.85754902881415, 53.75174694409923, 56.54230604549442, 58.984867429161426, 60.06009805964246, 61.45621332330092, 63.4260584670884, 65.45660361301492, 68.63048301402254, 71.5724867567484, 72.34520421339724, 72.82301976118855, 74.34100241870856, 77.04907307041684, 81.74742985026683, 85.92457705885334, 87.33676106903431, 88.78028211508892, 91.76586947931024, 95.700764500771, 101.20401329988414, 106.2574985975109, 109.18407392843434, 112.74949356464415, 117.32871562225104, 121.30901729185291, 125.86579231138727, 130.08030538622478, 132.68739110106577, 136.076970607329, 139.76307906334534, 142.08741983220548, 145.4198737672068, 149.67037525841207, 153.17851836170155, 157.75635622594314, 162.8650964232013, 167.07648138501864, 172.44576619983897, 177.76033496058216, 180.59209269652757, 183.27744620252435, 186.52694839012497, 189.4289047320865, 193.6419409981057, 197.85476883163525, 199.93573831377003, 202.2947084175468, 205.57661343722822, 208.33686131873233, 211.65413268313654, 214.6090255429438, 215.54177252209294, 216.83562629286808, 218.97433335520958, 220.04565311806678, 221.1473468857892, 222.63145379057562, 223.5638085876693, 225.19655954847758, 226.50739534346582, 225.0278575649654, 222.5845643304008, 220.76061095553248, 218.44077701401073, 216.1154548791732, 213.26670949992683, 208.17898628109558, 202.50921706743503, 197.08770854711204, 190.36971677284996, 183.4621026948759, 176.81450454298707, 168.7347264460798, 160.60217966302324, 153.62857389409754, 146.569798016469, 140.22466819096562, 134.32840918150464, 126.51581861950929, 118.08207828284954, 110.4932991980815, 102.62384644822814, 95.42183104089204, 88.82955561250833, 80.58739312335842, 72.28567836575832, 65.9231371182594, 60.523492306316335, 56.426276868289854, 52.667995585754895, 46.59319266115817, 39.93531939175804, 34.884237064981484, 30.510967662780665, 27.128061730833117, 24.19838933456053, 19.69604959572322, 15.113521184217511, 12.19861116885828, 10.193653475349011, 9.198764492028667, 8.231175308247689, 5.287937018422194, 1.8080342764125101, -0.1970850164278224, -1.1563031530574621, -1.501793946366415, -2.124279695046059, -3.970448740270121, -5.762855988423206, -6.675196208443593, -7.683113507502326, -8.852153009973264, -9.731375957863234, -10.4094791018647, -10.82205796344113, -11.198507463582457, -11.911823295526137, -12.42941903111469, -12.51321211947832, -12.76802328863775, -13.267489964634061, -13.338965642944482, -12.578638357820079, -11.340110420316945, -10.598288831348356, -10.949329475584017, -11.92441922548525, -12.64553685331436, -12.812997141396227, -12.755053224395347, -12.77214631338272, -12.972031613244866, -13.42784811365854, -13.751475109782962, -13.31240531137745, -12.25698126056535, -11.610729573356284, -12.466281456851302, -14.645315728611484, -16.136766876367652, -15.182429522111907, -12.775626412239632, -11.456899924292543, -12.41485377632046, -14.339628311953419, -14.74122397585577, -12.781673348441615, -10.255581634409918, -9.071420931600858, -9.228303697527949, -9.700855784827636, -9.806882841340881, -9.983705184044279, -11.120250049925067, -12.780511080576519, -13.502581831982432, -12.97260540844346, -12.426532834609365, -13.268249540588151, -15.350181150253212, -16.377361344915208, -14.50877889825871, -11.1916294002226, -9.595310444672107, -11.009622433042706, -13.598961748050426, -14.412857287605531, -12.713790463778265, -10.606652671460628, -9.698250246482484, -9.358221899829681, -8.680132159063977, -8.027860189609905, -8.455722160601093, -10.149287988092292, -11.63738857654187, -11.692322310346494, -11.0160322794955, -10.862346737739902, -11.417399957535244, -12.119500712103715, -12.307731051372466, -11.878075314515717, -11.41890851406956, -11.201692092091756, -11.039995011910952, -10.894573910863587, -10.517098559955524, -9.682478163473643, -8.904287664430175, -8.596871555373095, -8.681019281113795, -9.13341723130919, -9.736616202994005, -10.23483461017783, -10.691738761690317, -10.966776344685373, -10.991003276019201, -11.133364214920434, -11.26359550831845, -10.90484376103142, -10.336652455867473, -10.297046894836871, -11.188264831439476, -12.744857047759185, -13.822054803640514, -13.596726594175026, -12.653720730625261, -11.910613768345522, -11.83949347441301, -12.536012441592725, -13.29859516073546, -13.230220512921727, -12.63777727828845, -12.76825006509758, -14.605870086014843, -17.58320997887563, -19.25627976178485, -17.87382895543909, -14.866050264938158, -13.138828107962677, -13.901012703126469, -15.778198957202253, -16.539466235364777, -15.725649906698854, -15.018317924834069, -15.434200728367548, -16.18562296462442, -16.39828317579696, -16.120437973385236, -16.06657941263598, -16.656398599151675, -16.944561155311202, -15.829100334354766, -13.889446616788417, -12.602220852493092, -12.89112463977258, -14.470856965722616, -15.646252200716567, -14.97577846476019, -13.190058856239228, -12.219717247072456, -13.202209426754616, -15.412936321404443, -16.377307711157336, -14.439394587941262, -11.198180462522021, -9.64280934548139, -11.10640842966669, -14.283026481652554, -16.31175549961699, -15.786902492832965, -14.424152334947784, -14.400754941032693, -15.949653062784748, -17.790018776039698, -18.323697531729245, -17.261452407446118, -15.976915059180671, -15.41716570619857, -15.337468362255038, -15.43242450690446, -15.437964468472334, -15.371203913726596, -15.647562562744458, -16.129114136309813, -16.20876395028841, -15.885531230504833, -15.440214520357808, -15.249300404580167, -15.698557659140288, -16.206683312775525, -15.878532490930079, -15.19485754253966, -15.352831242507817, -16.896180139221297, -19.137178621588152, -20.324215266628745, -19.72441193241541, -18.760417362938565, -18.566102534978835, -18.491512576756772, -17.77587166826573, -16.802572331004153, -16.867851987034708, -18.459278267944555, -19.55585086492332, -18.04464989217417, -15.114122844526396, -13.73727867135803, -15.090381378055975, -17.558439956880882, -18.546825436142637, -17.67082721282843, -17.074754337939765, -17.738372386618103, -18.251478800337935, -17.701412435720343, -17.13642454644015, -18.313453845467905, -21.243053723360585, -23.140919699878616, -21.70699501921159, -18.539978612882773, -16.95124004931315, -18.135271678009975, -20.497828284078253, -21.40260288746794, -20.136609494320723, -18.605676064785943, -18.23855597560128, -18.502380696401023, -18.533088990587416, -18.031548203874813, -17.500531707756927, -17.797770861004615, -18.458036323906047, -18.2990978147939, -17.42720792832687, -16.94839145436926, -17.784516106103887, -19.80155649257946, -21.097062804802405, -20.06825536619967, -17.87812757483848, -16.921932161790824, -18.088102508857634, -20.192556729471278, -20.932275639642224, -19.53959772400269, -17.857570161710733, -17.35209394835104, -17.53209103957068, -17.59600959140481, -17.509696510701165, -17.9231614961904, -19.316363139405066, -20.57768076526707, -20.488817338604814, -19.877478318542522, -19.99447291165139, -20.667206747117373, -20.99599098809049, -20.502655773646726, -20.0226956865122, -20.662832926902663, -21.336299962253484, -20.035594960854805, -17.449562563119887, -16.336468527301133, -18.193286128469783, -21.60552132074922, -23.26979050302629, -21.835932738004836, -19.537658675539088, -18.4699256286632, -18.288838151749808, -18.05871273042835, -17.62028935620162, -17.781982855672698, -19.235782249421458, -20.890391023188585, -21.222458899786904, -20.57679919334507, -20.091298735544438, -20.26747049427618, -20.955337638129993, -21.069300642035696, -19.77062627762946, -17.994185921233857, -17.24449502072793, -18.229065979198083, -20.537387144846015, -22.294146076647603, -22.14395549747792, -21.30604239465519, -21.597588151756785, -23.232852333133945, -25.09703390023352, -25.76838342975213, -25.151011093337832, -24.621604585674493, -24.518259756065916, -23.907735149370303, -22.695944423020382, -21.836224630433414, -22.150423370776757, -23.33599842739033, -23.95347382297212, -23.162742965584638, -21.883842041624924, -21.349225870281053, -21.41671466410178, -21.317368941487697, -20.907621610835516, -20.81208017880131, -21.600147059607394, -22.583920028922655, -22.402754366251447, -21.19185668276591, -20.500864068531527, -21.30004065048342, -22.848619698760345, -23.22315041902071, -21.505632957404416, -18.988791819177592, -17.482334620676617, -16.841982469036207, -15.578497980993495, -13.171793336295572, -10.587233637412192, -8.879234449090049, -7.079283872917095, -3.044051388136883, 2.9799729802126915, 7.4634933915704975, 7.607301345731078, 4.907764319948625, 3.462723060574277, 5.115158501424273, 7.3264681238478255, 6.5016349844996935, 2.8713808032638752, -0.42292371832093917, -1.7593080407359338, -1.811139084046502, -1.1380933333660574, 1.1809514176371276, 5.924126055329552, 11.57282914325915, 15.772712197490081, 18.37950826737019, 20.28472083368722, 20.89272423437091, 18.49283109840811, 13.209051557485902, 9.013181623623074, 10.064246478301927, 15.371599396315284, 20.08306612339737, 21.046079912449212, 20.06951197618756, 21.739955751382357, 27.33930516591085, 33.049071805573995, 34.743186539451486, 32.35023076603817, 28.96031037001316, 27.0218646153998, 25.80628548901075, 23.543916482065608, 21.091826428853064, 20.716748231367, 21.942961291928373, 21.52304546351933, 16.970757139474514, 9.540922262757048, 3.182813510565397, -0.4521926820395523, -3.392283362802215, -7.588262359436957, -12.506804451137764, -16.297293640150425, -18.2801662613698, -19.705590442730752, -21.708331206327856, -23.334957074250315, -23.404370378977003, -22.56227938054256, -22.491076080247467, -24.28525918976771, -27.060758276825304, -28.739285235280416, -28.706638976526204, -28.074520675413762, -27.877537644641908, -28.281683664782292, -29.049999435362103, -29.385693794116932, -29.127233371524774, -29.046363437124413, -29.412176979360805, -30.29276233826075, -31.231653769775527, -31.450538357183575, -31.36082312357891, -31.17222430447939, -31.386647347461793, -32.151360444124585, -31.530700240929285, -31.018245259578467, -33.0396926558173, -33.81259585082335, -32.92199285831369, -32.378065247979094, -30.83906595359804, -30.60803781408542, -32.65363424436721, -33.27346356310492, -36.17910065939156, -44.863190596600894, -55.2049864418938, -63.17488791224975, -66.37370730214455, -63.703937276824675, -58.873403789426185, -54.14077374540543, -47.46108421527797, -34.67403834457098, -10.238724396270262, 27.251798922718418, 70.56077255250858, 109.58679533980627, 142.88632791878806, 183.88372095742272, 247.61058574775012, 327.7273107538772, 393.9466051394869, 418.7547009620155, 408.24671758428565, 400.3610918286811, 424.1596257330944, 462.82200270833175, 468.07620666003623, 414.0995826161725, 329.73818789250384, 271.0766444995419, 262.86367632800614, 274.9801745414573, 260.59144610802093, 207.73009065693427, 144.48399496578799, 102.42375732407471, 84.40706553967166, 69.94738312072217, 45.37563637433974, 16.90353637308399, -3.185289375682392, -11.928668656870038, -16.036698883068205, -19.28539075970431, -18.85294228273342, -13.83947556351376, -6.136036184118009, -0.16637167259224425, -0.6160141533741927, -2.4864014898267626, -1.7745394292833396, -2.984578136292535, -5.999936862319907, -7.842440808908586, -8.268011198832404, -5.003158265939564, -1.9688554008827108, -5.283219059074324, -10.964418605560109, -12.723279632692948, -11.044012360944373, -8.464780228779821, -7.687840589081129, -8.378466733556614, -7.549447606372136, -5.987183824854631, -6.87698334817083, -9.829317649517959, -11.255920334128607, -8.887132481907603, -4.935111320532112, -3.015739004823299, -3.2602391947399054, -3.0954445065533744, -1.6370131913965436, -0.995896256887926, -2.307090699391523, -3.240629061309064, -0.785954231090623, 4.2020654880141475, 7.073904345607767, 5.147219425816735, 1.0175179215145986, -0.9626982495189362, 0.37448505558302514, 2.6707139251833327, 3.438073077576343, 3.1313834570354353, 3.772523150774394, 5.522836571845479, 6.719526009930958, 6.5968447702230035, 6.185961047535637, 7.110301186962478, 9.429449449076023, 10.890871876908601, 10.003068153765268, 8.400645862556933, 8.618077930603794, 11.29481476322218, 14.856611103566195, 16.96902312239785, 17.34552813630364, 17.769901826447644, 18.545985431464757, 18.463455582761977, 17.55336726238107, 17.038899091570038, 18.159761200164564, 21.077080865378438, 23.626475119634584, 24.25543794917546, 24.370726902905336, 25.369412598753588, 27.30124104405981, 29.83983991721364, 31.642897194210967, 32.05458084642466, 32.51016724508011, 33.67096045519991, 35.370363939814744, 37.98491792517895, 40.30863486798557, 41.14072028135783, 41.745454538083834, 42.91536523240728, 44.656639769310445, 47.420586076746915, 49.742103393909154, 50.41651496426918, 51.37566296267283, 53.43476476683754, 55.970867978701776, 59.47600895111994, 62.78838155142877, 64.84910012213105, 67.20987433993771, 69.7001794431359, 71.565854294196, 74.44576823813622, 77.67134050313032, 79.53485136849429, 81.57867728329482, 84.47791375084064, 88.2038481743264, 93.82261792190046, 98.70003497010917, 100.06258284366186, 100.62507154022768, 102.45766240079169, 105.76102277273272, 111.44444700492532, 116.83040934525269, 119.37388902970183, 122.06464479972526, 126.51538190710303, 132.05437217678195, 139.06908988599116, 144.63654748151106, 146.62297608102944, 148.80278700570136, 152.61105099766797, 156.23781903147298, 160.14142381274016, 163.80395102772903, 167.36910063495338, 173.52898262442713, 179.577796823876, 180.9938389574272, 180.3051904048405, 181.45142199153193, 185.8855932575801, 193.4143195009765, 198.88515480962855, 198.6606897326832, 197.4682885650602, 199.3602957400103, 203.5314349838845, 208.75010537810627, 212.4054882789135, 213.0991827982679, 213.70025373880404, 214.75088898843, 214.3119175732046, 213.62595522829452, 213.1672688618961, 211.31062531740923, 208.9759539243834, 207.16436149749615, 205.75127523791645, 205.68476480180715, 204.88945983760553, 199.89989686564482, 193.00285407266048, 187.90694385193748, 184.47012658246598, 181.78808080043302, 177.76218952655677, 170.58012302488353, 162.82885884670003, 156.01039701920055, 148.18167419964308, 140.08881902437207, 132.70575022269404, 124.52922491822082, 116.08392894251968, 108.27467849204143, 100.76618749037758, 94.97152682671006, 89.43841959692934, 79.94499783461514, 68.3600708830786, 59.51441949987291, 54.53716856295865, 52.319051538828326, 48.87072030981081, 40.84421664519724, 32.03003925764654, 26.635180213254593, 23.52691169898146, 21.465173739762697, 19.422744161106568, 16.16889189310422, 13.391294572355525, 11.701513291807508, 9.248283661368925, 6.5320024075223575, 4.020922847606365, 0.5324099901191235, -2.958114223478281, -5.17392769680778, -6.5036335745039215, -6.681138256069976, -6.269007671928338, -6.478941199859285, -6.398891274448259, -5.512935295617653, -5.239196727170241, -6.088109331921615, -7.268980118682206, -7.730794371692685, -7.031011227627381, -6.789017817283201, -8.862440013649307, -11.872010479451696, -12.804690522129581, -11.013471458170576, -8.853647786567718, -8.628211407817956, -9.845274883507567, -10.56548387911643, -10.856631856064903, -12.673593841147463, -15.906757824176607, -17.23903875085572, -14.274914437905206, -9.14094196711307, -6.027798490508216, -6.248254161832602, -7.805317916875542, -8.749095974798374, -9.593465965168637, -11.627347502485147, -13.862566025306284, -14.179517701506699, -12.52219409838378, -10.81471400710346, -10.55183158053722, -11.453507410197808, -11.90325065678887, -11.076995386838904, -10.071259476480702, -10.275699155600567, -11.794915622875902, -13.550446455592342, -13.927831555489488, -12.523787425614655, -10.771548973859847, -9.859551137973604, -9.592002921485028, -9.607643201333824, -10.127517902460148, -11.538239527288729, -13.732122641453264, -15.362975257461688, -15.698006793432846, -15.61561171812098, -15.791183874922439, -15.514984309788906, -14.32774535406553, -13.228423051084865, -13.885453249703572, -16.426848964654965, -18.359392112082823, -17.483228104943755, -15.189558465657603, -14.459041008117843, -15.9968893286753, -17.72289489194963, -17.424586655533098, -15.94880869213351, -16.045633183154816, -17.525372313354108, -17.042822083197358, -13.598750984944008, -11.11250007206593, -14.386259588565407, -22.327622625343828, -26.969450506593102, -22.18629822895584, -11.923343020544106, -6.117809223996976, -9.635713618957121, -17.422315494129812, -20.48789117839271, -16.127871528505715, -10.24683926920811, -9.106510597685444, -12.637031173547085, -16.7212777715526, -18.45780481044857, -18.72811626081709, -19.906528886213945, -21.762850769482306, -22.096444277875406, -20.44484516969597, -18.60633398685677, -18.575051793343636, -20.43058535084756, -21.602377318679757, -19.87599101029859, -16.810570169070747, -15.7280289902796, -17.818585804531466, -20.904169692782464, -21.550830365882092, -19.1519646205718, -16.764793016401995, -16.287263545011815, -16.43765122883921, -15.947126167412113, -15.931910278060494, -18.570070866840737, -23.680782459883744, -27.263842891264655, -25.92366922160466, -21.349839173850683, -18.00948918826871, -18.204390796902477, -20.45751225895407, -21.23483605852055, -18.9757846816967, -16.227673154233887, -16.171174230330028, -19.307615600032726, -23.47156958767909, -25.515062427813355, -24.49407695215652, -22.787396640500685, -22.298874030583562, -22.43846286534892, -22.196762950063203, -21.658605650124905, -22.00153681512578, -23.879757316905327, -25.39904174444702, -24.378022162345083, -21.640557310424946, -19.765004414414133, -20.267793831256867, -22.582543274847055, -24.161329616535376, -23.136965093159034, -20.977268377561025, -20.476388639588578, -22.863631323508695, -26.743495057148497, -28.636847584889107, -26.812590980150343, -23.79326486134623, -22.857129038935458, -24.525355160352238, -27.10987339797991, -28.655746728255245, -28.776287341465974, -28.638931622613384, -28.48295223173763, -27.836928725385754, -27.179757102863647, -26.54672911930397, -25.0666642124902, -23.020540327302545, -21.95849040004642, -23.39938088584538, -27.051802704627104, -29.640809095033326, -28.544081959131933, -25.537903831130844, -24.188522875219174, -25.65525805443026, -28.213413783787107, -29.096810130732006, -27.694110555853626, -26.223795245719206, -26.050841833100222, -26.241201604870408, -25.889759190051485, -25.093435755999902, -24.730346436416273, -25.570943361553947, -26.47072299882999, -25.90327785519511, -24.942946415126027, -25.346600748551133, -27.220166837267957, -29.39155465276665, -30.322736038058782, -29.86382077333319, -29.347914392537735, -28.69548823117667, -26.906963010615126, -24.873679906861916, -24.075695302792134, -24.522108898969147, -25.354666249502895, -25.795892497947623, -26.19131057201237, -27.172821684265852, -27.25366874668257, -24.857433778172574, -21.887110555285908, -21.13030225058268, -22.65049955919192, -24.783507515197094, -26.582692585092136, -29.04573819428787, -32.89201482236468, -35.24357781995598, -33.033288010729564, -28.28806440399467, -25.547958152902382, -26.40419156115829, -28.51738334781561, -29.47357207823599, -29.750461730528578, -31.05379230368977, -32.407641988251505, -31.298994214698336, -28.225419815972405, -26.110547782905883, -26.10420235311837, -26.71561844126888, -26.524275264876227, -26.176269480039558, -26.926590456746464, -27.92563545856191, -27.694276406173994, -27.387078658415966, -28.871924305390763, -31.116496810871624, -31.5826996212911, -30.29315839469641, -29.95905060549202, -31.22801609630656, -29.420314810699406, -19.862832686534908, -5.93264724974277, 3.477824932100809, 3.918444236330532, -0.44701792491991243, -2.558197820626904, -0.5550099858632935, 1.541974393005743, 0.8643191921784601, -0.7367300994017453, -0.8508322990901276, 0.20935964799139906, 0.7278979804627614, 0.09414658189763986, -0.5238620104498217, -0.18144270449600666, 0.31894227609976455, 0.18145711473375897, -0.11138133198377426, -0.13766930170362635, -0.010066825751536557, 0.13139163186381536, 0.06144052587250408, -0.10483520492860914, -0.017122136431046417, 0.07220594362178774]\n",
      "1250\n",
      "1250\n",
      "[-26, -25, -24, -23, -22, -21, -20, -19, -18, -17, -16, -15, -14, -13, -12, -11, -10, -9, -8, -7, -6, -5, -4, -3, -2, -1, 0, 1, 2, 3, 4, 5, 6, 7, 8, 9, 10, 11, 12, 13, 14, 15, 16, 17, 18, 19, 20, 21, 22, 23, 24, 25, 26, 27, 28, 29, 30, 31, 32, 33, 34, 35, 36, 37, 38, 39, 40, 41, 42, 43, 44, 45, 46, 47, 48, 49, 50, 51, 52, 53, 54, 55, 56, 57, 58, 59, 60, 61, 62, 63, 64, 65, 66, 67, 68, 69, 70, 71, 72, 73, 74, 75, 76, 77, 78, 79, 80, 81, 82, 83, 84, 85, 86, 87, 88, 89, 90, 91, 92, 93, 94, 95, 96, 97, 98, 99, 100, 101, 102, 103, 104, 105, 106, 107, 108, 109, 110, 111, 112, 113, 114, 115, 116, 117, 118, 119, 120, 121, 122, 123, 124, 125, 126, 127, 128, 129, 130, 131, 132, 133, 134, 135, 136, 137, 138, 139, 140, 141, 142, 143, 144, 145, 146, 147, 148, 149, 150, 151, 152, 153, 154, 155, 156, 157, 158, 159, 160, 161, 162, 163, 164, 165, 166, 167, 168, 169, 170, 171, 172, 173, 174, 175, 176, 177, 178, 179, 180, 181, 182, 183, 184, 185, 186, 187, 188, 189, 190, 191, 192, 193, 194, 195, 196, 197, 198, 199, 200, 201, 202, 203, 204, 205, 206, 207, 208, 209, 210, 211, 212, 213, 214, 215, 216, 217, 218, 219, 220, 221, 222, 223, 224, 225, 226, 227, 228, 229, 230, 231, 232, 233, 234, 235, 236, 237, 238, 239, 240, 241, 242, 243, 244, 245, 246, 247, 248, 249, 250, 251, 252, 253, 254, 255, 256, 257, 258, 259, 260, 261, 262, 263, 264, 265, 266, 267, 268, 269, 270, 271, 272, 273, 274, 275, 276, 277, 278, 279, 280, 281, 282, 283, 284, 285, 286, 287, 288, 289, 290, 291, 292, 293, 294, 295, 296, 297, 298, 299, 300, 301, 302, 303, 304, 305, 306, 307, 308, 309, 310, 311, 312, 313, 314, 315, 316, 317, 318, 319, 320, 321, 322, 323, 324, 325, 326, 327, 328, 329, 330, 331, 332, 333, 334, 335, 336, 337, 338, 339, 340, 341, 342, 343, 344, 345, 346, 347, 348, 349, 350, 351, 352, 353, 354, 355, 356, 357, 358, 359, 360, 361, 362, 363, 364, 365, 366, 367, 368, 369, 370, 371, 372, 373, 374, 375, 376, 377, 378, 379, 380, 381, 382, 383, 384, 385, 386, 387, 388, 389, 390, 391, 392, 393, 394, 395, 396, 397, 398, 399, 400, 401, 402, 403, 404, 405, 406, 407, 408, 409, 410, 411, 412, 413, 414, 415, 416, 417, 418, 419, 420, 421, 422, 423, 424, 425, 426, 427, 428, 429, 430, 431, 432, 433, 434, 435, 436, 437, 438, 439, 440, 441, 442, 443, 444, 445, 446, 447, 448, 449, 450, 451, 452, 453, 454, 455, 456, 457, 458, 459, 460, 461, 462, 463, 464, 465, 466, 467, 468, 469, 470, 471, 472, 473, 474, 475, 476, 477, 478, 479, 480, 481, 482, 483, 484, 485, 486, 487, 488, 489, 490, 491, 492, 493, 494, 495, 496, 497, 498, 499, 500, 501, 502, 503, 504, 505, 506, 507, 508, 509, 510, 511, 512, 513, 514, 515, 516, 517, 518, 519, 520, 521, 522, 523, 524, 525, 526, 527, 528, 529, 530, 531, 532, 533, 534, 535, 536, 537, 538, 539, 540, 541, 542, 543, 544, 545, 546, 547, 548, 549, 550, 551, 552, 553, 554, 555, 556, 557, 558, 559, 560, 561, 562, 563, 564, 565, 566, 567, 568, 569, 570, 571, 572, 573, 574, 575, 576, 577, 578, 579, 580, 581, 582, 583, 584, 585, 586, 587, 588, 589, 590, 591, 592, 593, 594, 595, 596, 597, 598]\n",
      "[0.049355961462994154, -0.07165950716639105, 0.09261585081935038, -0.09037347984481406, 0.10565968757014811, -0.08048439271125987, -0.010380636838545315, 0.2570986791450975, -0.6476495291382753, 1.1834343069036684, -1.8111379071480531, 2.5878520597390335, -3.6750401185710557, -21.17690302429976, -16.469693183509506, -17.59397881055952, -20.558516006774234, -18.985068539802793, -20.24817936910354, -20.016542435511717, -21.059724823442465, -19.785866133264815, -18.96638155852908, -10.351833557641442, -4.455348969057429, -3.9246916760363173, 5.796740312931226, 9.796751457114054, 7.30289307556918, 9.598066519050708, 5.541109301026496, -0.41245141950295683, 4.775911629094401, 11.391207385704103, 13.6330190798951, 21.990146485012477, 20.567242494718812, 9.314502218143202, 19.481924172943664, 24.634041526166644, 21.587944708738494, 34.53656939401393, 34.64908745361458, 26.82736954046253, 29.0406572208525, 24.515032761911893, 18.749546731766404, 8.206265702313361, -1.3295331108316577, -5.237903736967186, -15.740462595770817, -19.62936435539343, -19.41714168228417, -20.857658160113054, -19.78714374317475, -19.89812460571913, -19.649465500246947, -21.286012409765984, -25.047606774729495, -26.333286113790155, -27.265343166292702, -27.062455358098052, -26.363183992013404, -27.855911706428174, -28.58529344721835, -31.828179833372086, -30.758130174182828, -29.272039209115377, -29.588994153103467, -40.03487193777223, -56.365997794792584, -57.63182156798947, -46.79146913164615, -23.653709436050754, 32.318590042070014, 106.68580183478583, 176.97446476976666, 307.9948319255928, 399.43623653251495, 388.4261760698986, 450.7767127632917, 404.5266277012853, 259.862194578559, 280.16412888988066, 217.07920353193, 103.68072468472229, 66.08804673807283, 10.115199817239933, -14.437154880595138, -18.27871327128707, -13.194634484846215, -2.500603036824711, -3.558494125827448, -2.8791931046566943, -1.0816055496263703, -10.081832553942071, -10.985625079236595, -8.152245655323997, -6.863034170455296, -6.125950070583351, -8.491959644889837, -9.940888499345226, -10.287166650269409, -7.81981926605186, -8.080040098812308, -6.470640315257033, -3.8294643103683144, -2.353398338007276, -1.1605206667146926, 0.8812097537251345, 3.127196002556966, 6.797708219858485, 11.904526481671843, 9.354047790471054, 8.792029193473805, 11.936340046439545, 13.718874259959597, 17.2660052988604, 21.356474867235477, 20.395779945658152, 21.75083298844743, 26.896970035107543, 27.464760478576796, 30.246830456778923, 32.84462257471827, 34.251600898655035, 36.52110557527303, 38.37358740960084, 45.47594870626101, 50.01623583771403, 51.85754902881415, 56.54230604549442, 60.06009805964246, 63.4260584670884, 68.63048301402254, 72.34520421339724, 74.34100241870856, 81.74742985026683, 87.33676106903431, 91.76586947931024, 101.20401329988414, 109.18407392843434, 117.32871562225104, 125.86579231138727, 132.68739110106577, 139.76307906334534, 145.4198737672068, 153.17851836170155, 162.8650964232013, 172.44576619983897, 180.59209269652757, 186.52694839012497, 193.6419409981057, 199.93573831377003, 205.57661343722822, 211.65413268313654, 215.54177252209294, 218.97433335520958, 221.1473468857892, 223.5638085876693, 226.50739534346582, 222.5845643304008, 218.44077701401073, 213.26670949992683, 202.50921706743503, 190.36971677284996, 176.81450454298707, 160.60217966302324, 146.569798016469, 134.32840918150464, 118.08207828284954, 102.62384644822814, 88.82955561250833, 72.28567836575832, 60.523492306316335, 52.667995585754895, 39.93531939175804, 30.510967662780665, 24.19838933456053, 15.113521184217511, 10.193653475349011, 8.231175308247689, 1.8080342764125101, -1.1563031530574621, -2.124279695046059, -5.762855988423206, -7.683113507502326, -9.731375957863234, -10.82205796344113, -11.911823295526137, -12.51321211947832, -13.267489964634061, -12.578638357820079, -10.598288831348356, -11.92441922548525, -12.812997141396227, -12.77214631338272, -13.42784811365854, -13.31240531137745, -11.610729573356284, -14.645315728611484, -15.182429522111907, -11.456899924292543, -14.339628311953419, -12.781673348441615, -9.071420931600858, -9.700855784827636, -9.983705184044279, -12.780511080576519, -12.97260540844346, -13.268249540588151, -16.377361344915208, -11.1916294002226, -11.009622433042706, -14.412857287605531, -10.606652671460628, -9.358221899829681, -8.027860189609905, -10.149287988092292, -11.692322310346494, -10.862346737739902, -12.119500712103715, -11.878075314515717, -11.201692092091756, -10.894573910863587, -9.682478163473643, -8.596871555373095, -9.13341723130919, -10.23483461017783, -10.966776344685373, -11.133364214920434, -10.90484376103142, -10.297046894836871, -12.744857047759185, -13.596726594175026, -11.910613768345522, -12.536012441592725, -13.230220512921727, -12.76825006509758, -17.58320997887563, -17.87382895543909, -13.138828107962677, -15.778198957202253, -15.725649906698854, -15.434200728367548, -16.39828317579696, -16.06657941263598, -16.944561155311202, -13.889446616788417, -12.89112463977258, -15.646252200716567, -13.190058856239228, -13.202209426754616, -16.377307711157336, -11.198180462522021, -11.10640842966669, -16.31175549961699, -14.424152334947784, -15.949653062784748, -18.323697531729245, -15.976915059180671, -15.337468362255038, -15.437964468472334, -15.647562562744458, -16.20876395028841, -15.440214520357808, -15.698557659140288, -15.878532490930079, -15.352831242507817, -19.137178621588152, -19.72441193241541, -18.566102534978835, -17.77587166826573, -16.867851987034708, -19.55585086492332, -15.114122844526396, -15.090381378055975, -18.546825436142637, -17.074754337939765, -18.251478800337935, -17.13642454644015, -21.243053723360585, -21.70699501921159, -16.95124004931315, -20.497828284078253, -20.136609494320723, -18.23855597560128, -18.533088990587416, -17.500531707756927, -18.458036323906047, -17.42720792832687, -17.784516106103887, -21.097062804802405, -17.87812757483848, -18.088102508857634, -20.932275639642224, -17.857570161710733, -17.53209103957068, -17.509696510701165, -19.316363139405066, -20.488817338604814, -19.99447291165139, -20.99599098809049, -20.0226956865122, -21.336299962253484, -17.449562563119887, -18.193286128469783, -23.26979050302629, -19.537658675539088, -18.288838151749808, -17.62028935620162, -19.235782249421458, -21.222458899786904, -20.091298735544438, -20.955337638129993, -19.77062627762946, -17.24449502072793, -20.537387144846015, -22.14395549747792, -21.597588151756785, -25.09703390023352, -25.151011093337832, -24.518259756065916, -22.695944423020382, -22.150423370776757, -23.95347382297212, -21.883842041624924, -21.41671466410178, -20.907621610835516, -21.600147059607394, -22.402754366251447, -20.500864068531527, -22.848619698760345, -21.505632957404416, -17.482334620676617, -15.578497980993495, -10.587233637412192, -7.079283872917095, 2.9799729802126915, 7.607301345731078, 3.462723060574277, 7.3264681238478255, 2.8713808032638752, -1.7593080407359338, -1.1380933333660574, 5.924126055329552, 15.772712197490081, 20.28472083368722, 18.49283109840811, 9.013181623623074, 15.371599396315284, 21.046079912449212, 21.739955751382357, 33.049071805573995, 32.35023076603817, 27.0218646153998, 23.543916482065608, 20.716748231367, 21.52304546351933, 9.540922262757048, -0.4521926820395523, -7.588262359436957, -16.297293640150425, -19.705590442730752, -23.334957074250315, -22.56227938054256, -24.28525918976771, -28.739285235280416, -28.074520675413762, -28.281683664782292, -29.385693794116932, -29.046363437124413, -30.29276233826075, -31.450538357183575, -31.17222430447939, -32.151360444124585, -31.018245259578467, -33.81259585082335, -32.378065247979094, -30.60803781408542, -33.27346356310492, -44.863190596600894, -63.17488791224975, -63.703937276824675, -54.14077374540543, -34.67403834457098, 27.251798922718418, 109.58679533980627, 183.88372095742272, 327.7273107538772, 418.7547009620155, 400.3610918286811, 462.82200270833175, 414.0995826161725, 271.0766444995419, 274.9801745414573, 207.73009065693427, 102.42375732407471, 69.94738312072217, 16.90353637308399, -11.928668656870038, -19.28539075970431, -13.83947556351376, -0.16637167259224425, -2.4864014898267626, -2.984578136292535, -7.842440808908586, -5.003158265939564, -5.283219059074324, -12.723279632692948, -8.464780228779821, -8.378466733556614, -5.987183824854631, -9.829317649517959, -8.887132481907603, -3.015739004823299, -3.0954445065533744, -0.995896256887926, -3.240629061309064, 4.2020654880141475, 5.147219425816735, -0.9626982495189362, 2.6707139251833327, 3.1313834570354353, 5.522836571845479, 6.5968447702230035, 7.110301186962478, 10.890871876908601, 8.400645862556933, 11.29481476322218, 16.96902312239785, 17.769901826447644, 18.463455582761977, 17.038899091570038, 21.077080865378438, 24.25543794917546, 25.369412598753588, 29.83983991721364, 32.05458084642466, 33.67096045519991, 37.98491792517895, 41.14072028135783, 42.91536523240728, 47.420586076746915, 50.41651496426918, 53.43476476683754, 59.47600895111994, 64.84910012213105, 69.7001794431359, 74.44576823813622, 79.53485136849429, 84.47791375084064, 93.82261792190046, 100.06258284366186, 102.45766240079169, 111.44444700492532, 119.37388902970183, 126.51538190710303, 139.06908988599116, 146.62297608102944, 152.61105099766797, 160.14142381274016, 167.36910063495338, 179.577796823876, 180.3051904048405, 185.8855932575801, 198.88515480962855, 197.4682885650602, 203.5314349838845, 212.4054882789135, 213.70025373880404, 214.3119175732046, 213.1672688618961, 208.9759539243834, 205.75127523791645, 204.88945983760553, 193.00285407266048, 184.47012658246598, 177.76218952655677, 162.82885884670003, 148.18167419964308, 132.70575022269404, 116.08392894251968, 100.76618749037758, 89.43841959692934, 68.3600708830786, 54.53716856295865, 48.87072030981081, 32.03003925764654, 23.52691169898146, 19.422744161106568, 13.391294572355525, 9.248283661368925, 4.020922847606365, -2.958114223478281, -6.5036335745039215, -6.269007671928338, -6.398891274448259, -5.239196727170241, -7.268980118682206, -7.031011227627381, -8.862440013649307, -12.804690522129581, -8.853647786567718, -9.845274883507567, -10.856631856064903, -15.906757824176607, -14.274914437905206, -6.027798490508216, -7.805317916875542, -9.593465965168637, -13.862566025306284, -12.52219409838378, -10.55183158053722, -11.90325065678887, -10.071259476480702, -11.794915622875902, -13.927831555489488, -10.771548973859847, -9.592002921485028, -10.127517902460148, -13.732122641453264, -15.698006793432846, -15.791183874922439, -14.32774535406553, -13.885453249703572, -18.359392112082823, -15.189558465657603, -15.9968893286753, -17.424586655533098, -16.045633183154816, -17.042822083197358, -11.11250007206593, -22.327622625343828, -22.18629822895584, -6.117809223996976, -17.422315494129812, -16.127871528505715, -9.106510597685444, -16.7212777715526, -18.72811626081709, -21.762850769482306, -20.44484516969597, -18.575051793343636, -21.602377318679757, -16.810570169070747, -17.818585804531466, -21.550830365882092, -16.764793016401995, -16.43765122883921, -15.931910278060494, -23.680782459883744, -25.92366922160466, -18.00948918826871, -20.45751225895407, -18.9757846816967, -16.171174230330028, -23.47156958767909, -24.49407695215652, -22.298874030583562, -22.196762950063203, -22.00153681512578, -25.39904174444702, -21.640557310424946, -20.267793831256867, -24.161329616535376, -20.977268377561025, -22.863631323508695, -28.636847584889107, -23.79326486134623, -24.525355160352238, -28.655746728255245, -28.638931622613384, -27.836928725385754, -26.54672911930397, -23.020540327302545, -23.39938088584538, -29.640809095033326, -25.537903831130844, -25.65525805443026, -29.096810130732006, -26.223795245719206, -26.241201604870408, -25.093435755999902, -25.570943361553947, -25.90327785519511, -25.346600748551133, -29.39155465276665, -29.86382077333319, -28.69548823117667, -24.873679906861916, -24.522108898969147, -25.795892497947623, -27.172821684265852, -24.857433778172574, -21.13030225058268, -24.783507515197094, -29.04573819428787, -35.24357781995598, -28.28806440399467, -26.40419156115829, -29.47357207823599, -31.05379230368977, -31.298994214698336, -26.110547782905883, -26.71561844126888, -26.176269480039558, -27.92563545856191, -27.387078658415966, -31.116496810871624, -30.29315839469641, -31.22801609630656, -19.862832686534908, 3.477824932100809, -0.44701792491991243, -0.5550099858632935, 0.8643191921784601, -0.8508322990901276, 0.7278979804627614, -0.5238620104498217, 0.31894227609976455, -0.11138133198377426, -0.010066825751536557, 0.06144052587250408, -0.017122136431046417]\n",
      "625\n",
      "625\n",
      "Current Output Test file is: \n",
      "C:\\Users\\HP\\Desktop\\dsp\\task7\\sampling test cases\\Testcase 3\\Sampling_Up_Down.txt\n",
      "\n",
      "\n",
      "1 1\n",
      "Test case failed, your signal have different length from the expected one\n",
      "Current Output Test file is: \n",
      "C:\\Users\\HP\\Desktop\\dsp\\task7\\sampling test cases\\Testcase 3\\Sampling_Up_Down1.txt\n",
      "\n",
      "\n",
      "625 625\n",
      "Test case passed successfully\n"
     ]
    }
   ],
   "source": [
    "def resampling_upAndDown(input_index:list , input_samples_values:list,l:int,m:int,fs, fp, delta_f,StopBandAttenuation):\n",
    "    resampled_up_indices , resampled_up_samples = resampling_up(input_index, input_samples_values, l, fs, fp, delta_f, StopBandAttenuation)\n",
    "    \n",
    "    print(resampled_up_indices)\n",
    "    print(resampled_up_samples)\n",
    "    print(len(resampled_up_indices))\n",
    "    print(len(resampled_up_samples))\n",
    "    \n",
    "    #down sampling\n",
    "    s = resampled_up_samples[::m]\n",
    "    isd = [i+resampled_up_indices[0] for i in range(len(s))]\n",
    "    \n",
    "    print(isd)\n",
    "    print(s)\n",
    "    print(len(isd))\n",
    "    print(len(s))\n",
    "    \n",
    "    return  isd, s\n",
    "    \n",
    "readed_signal = read_File(r\"C:\\Users\\HP\\Desktop\\dsp\\task7\\sampling test cases\\Testcase 3\\ecg400.txt\")    \n",
    "re_index,re_samples =  resampling_upAndDown(readed_signal[1],readed_signal[2],3,2,8000,1500,500,50)\n",
    "\n",
    "Compare_Signals(r\"C:\\Users\\HP\\Desktop\\dsp\\task7\\sampling test cases\\Testcase 3\\Sampling_Up_Down.txt\",re_index,re_samples)\n",
    "Compare_Signals(r\"C:\\Users\\HP\\Desktop\\dsp\\task7\\sampling test cases\\Testcase 3\\Sampling_Up_Down1.txt\",re_index,re_samples)\n"
   ]
  },
  {
   "cell_type": "code",
   "execution_count": 21,
   "metadata": {},
   "outputs": [],
   "source": [
    "\n",
    "data = pd.DataFrame({\"index\":re_index,\n",
    "                     \"samples\":re_samples})\n",
    "\n",
    "write_file(r\"C:\\Users\\HP\\Desktop\\dsp\\task7\\sampling test cases\\Testcase 3\\ss\",data,len(data))"
   ]
  }
 ],
 "metadata": {
  "kernelspec": {
   "display_name": "Python 3",
   "language": "python",
   "name": "python3"
  },
  "language_info": {
   "codemirror_mode": {
    "name": "ipython",
    "version": 3
   },
   "file_extension": ".py",
   "mimetype": "text/x-python",
   "name": "python",
   "nbconvert_exporter": "python",
   "pygments_lexer": "ipython3",
   "version": "3.11.2"
  }
 },
 "nbformat": 4,
 "nbformat_minor": 2
}
